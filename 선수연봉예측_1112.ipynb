{
  "nbformat": 4,
  "nbformat_minor": 0,
  "metadata": {
    "colab": {
      "name": "선수연봉예측 1112.ipynb",
      "provenance": [],
      "collapsed_sections": [],
      "include_colab_link": true
    },
    "kernelspec": {
      "name": "python3",
      "display_name": "Python 3"
    },
    "language_info": {
      "name": "python"
    },
    "accelerator": "GPU"
  },
  "cells": [
    {
      "cell_type": "markdown",
      "metadata": {
        "id": "view-in-github",
        "colab_type": "text"
      },
      "source": [
        "<a href=\"https://colab.research.google.com/github/MinkwonJeon/deeplearning/blob/main/%EC%84%A0%EC%88%98%EC%97%B0%EB%B4%89%EC%98%88%EC%B8%A1_1112.ipynb\" target=\"_parent\"><img src=\"https://colab.research.google.com/assets/colab-badge.svg\" alt=\"Open In Colab\"/></a>"
      ]
    },
    {
      "cell_type": "markdown",
      "metadata": {
        "id": "gEO9RELiF3HY"
      },
      "source": [
        "### train을 사용하여 학습 후, test를 사용하여 관객수 도출"
      ]
    },
    {
      "cell_type": "markdown",
      "metadata": {
        "id": "sw9r4UQQrR9k"
      },
      "source": [
        "## 데이터 전처리 : 모두 숫자열로\n",
        "- right=0, left=1/\n",
        "GK=0, ST=1 MF=2, DF=3/\n",
        "africa=0, asia=1, europe=2, oceania=3, south america=4\n",
        "\n",
        "- 오류처리 : train_y = train_y[:,:].astype(float) /\n",
        "train_x = train_x[:,:].astype(float) 사용\n"
      ]
    },
    {
      "cell_type": "code",
      "metadata": {
        "id": "Ybz1a10mOIOz"
      },
      "source": [
        "import numpy as np\n",
        "import pandas as pd\n",
        "import matplotlib.pyplot as plt\n",
        "\n",
        "import tensorflow as tf\n",
        "\n",
        "from tensorflow import keras\n",
        "from tensorflow.keras import optimizers\n",
        "from tensorflow.keras.layers import Dense  #(Dense)"
      ],
      "execution_count": 1,
      "outputs": []
    },
    {
      "cell_type": "code",
      "metadata": {
        "colab": {
          "base_uri": "https://localhost:8080/"
        },
        "id": "bHltR4f3Fx5-",
        "outputId": "5129b252-a8cf-4e76-8900-aae59f32ef5c"
      },
      "source": [
        "from google.colab import drive\n",
        "drive.mount('/content/drive')"
      ],
      "execution_count": 2,
      "outputs": [
        {
          "output_type": "stream",
          "text": [
            "Drive already mounted at /content/drive; to attempt to forcibly remount, call drive.mount(\"/content/drive\", force_remount=True).\n"
          ],
          "name": "stdout"
        }
      ]
    },
    {
      "cell_type": "code",
      "metadata": {
        "id": "Kmef3iDPL_XN"
      },
      "source": [
        "!cp '/content/drive/MyDrive/cau_temp/FIFA_test.csv' ./"
      ],
      "execution_count": 3,
      "outputs": []
    },
    {
      "cell_type": "code",
      "metadata": {
        "id": "soPGfPKPg8j_"
      },
      "source": [
        "!cp '/content/drive/MyDrive/cau_temp/FIFA_train.csv' ./"
      ],
      "execution_count": 4,
      "outputs": []
    },
    {
      "cell_type": "code",
      "metadata": {
        "id": "1mRpnCUBM6EY",
        "colab": {
          "base_uri": "https://localhost:8080/"
        },
        "outputId": "c5f94310-c599-41da-ba11-79b23e2d0a20"
      },
      "source": [
        "\n",
        "!cp '/content/drive/MyDrive/cau_temp/submission.csv' ./"
      ],
      "execution_count": 5,
      "outputs": [
        {
          "output_type": "stream",
          "text": [
            "cp: cannot stat '/content/drive/MyDrive/cau_temp/submission.csv': No such file or directory\n"
          ],
          "name": "stdout"
        }
      ]
    },
    {
      "cell_type": "code",
      "metadata": {
        "colab": {
          "base_uri": "https://localhost:8080/"
        },
        "id": "4qi5btqnNhpQ",
        "outputId": "f779513d-9f31-4dff-800c-c5edb09eb964"
      },
      "source": [
        "!ls -al"
      ],
      "execution_count": 6,
      "outputs": [
        {
          "output_type": "stream",
          "text": [
            "total 704\n",
            "drwxr-xr-x 1 root root   4096 Aug 29 12:03  .\n",
            "drwxr-xr-x 1 root root   4096 Aug 29 11:47  ..\n",
            "drwxr-xr-x 4 root root   4096 Aug 25 13:35  .config\n",
            "drwx------ 5 root root   4096 Aug 29 11:50  drive\n",
            "-rw------- 1 root root 159571 Aug 29 12:48  FIFA_test.csv\n",
            "-rw------- 1 root root 438463 Aug 29 12:48  FIFA_train.csv\n",
            "drwxr-xr-x 1 root root   4096 Aug 25 13:35  sample_data\n",
            "-rw-r--r-- 1 root root    133 Aug 29 12:02 'sample_data\\submission.csv'\n",
            "-rw-r--r-- 1 root root  90796 Aug 29 12:43  submission.csv\n"
          ],
          "name": "stdout"
        }
      ]
    },
    {
      "cell_type": "code",
      "metadata": {
        "colab": {
          "base_uri": "https://localhost:8080/"
        },
        "id": "66eOFDdJNtAB",
        "outputId": "5d9273b0-410b-48e9-970a-64d19e654fcd"
      },
      "source": [
        "!head FIFA_train.csv"
      ],
      "execution_count": 7,
      "outputs": [
        {
          "output_type": "stream",
          "text": [
            "name,id,continent,age,contract_until,position,prefer_foot,reputation,stat_overall,stat_potential,stat_skill_moves,value\r\n",
            "L. Messi,0,4,31,2021,1,1,5,94,94,4,110500000\r\n",
            "De Gea,3,2,27,2020,0,0,4,91,93,1,72000000\r\n",
            "L. Suárez,7,4,31,2021,1,0,5,91,91,3,80000000\r\n",
            "Sergio Ramos,8,2,32,2020,0,0,4,91,91,3,51000000\r\n",
            "J. Oblak,9,2,25,2021,0,0,3,90,93,1,68000000\r\n",
            "D. Godín,12,4,32,2019,3,0,3,90,90,2,44000000\r\n",
            "David Silva,13,2,32,2020,2,1,4,90,90,4,60000000\r\n",
            "N. Kanté,14,2,27,2023,2,0,3,89,90,2,63000000\r\n",
            "M. ter Stegen,18,2,26,2022,0,0,3,89,92,1,58000000\r\n"
          ],
          "name": "stdout"
        }
      ]
    },
    {
      "cell_type": "code",
      "metadata": {
        "colab": {
          "base_uri": "https://localhost:8080/",
          "height": 204
        },
        "id": "m7XgpHSGNy8M",
        "outputId": "dc31e455-f068-4f67-8597-5bf8f45d7209"
      },
      "source": [
        "invest=pd.read_csv('FIFA_train.csv')\n",
        "invest.head()\n"
      ],
      "execution_count": 8,
      "outputs": [
        {
          "output_type": "execute_result",
          "data": {
            "text/html": [
              "<div>\n",
              "<style scoped>\n",
              "    .dataframe tbody tr th:only-of-type {\n",
              "        vertical-align: middle;\n",
              "    }\n",
              "\n",
              "    .dataframe tbody tr th {\n",
              "        vertical-align: top;\n",
              "    }\n",
              "\n",
              "    .dataframe thead th {\n",
              "        text-align: right;\n",
              "    }\n",
              "</style>\n",
              "<table border=\"1\" class=\"dataframe\">\n",
              "  <thead>\n",
              "    <tr style=\"text-align: right;\">\n",
              "      <th></th>\n",
              "      <th>name</th>\n",
              "      <th>id</th>\n",
              "      <th>continent</th>\n",
              "      <th>age</th>\n",
              "      <th>contract_until</th>\n",
              "      <th>position</th>\n",
              "      <th>prefer_foot</th>\n",
              "      <th>reputation</th>\n",
              "      <th>stat_overall</th>\n",
              "      <th>stat_potential</th>\n",
              "      <th>stat_skill_moves</th>\n",
              "      <th>value</th>\n",
              "    </tr>\n",
              "  </thead>\n",
              "  <tbody>\n",
              "    <tr>\n",
              "      <th>0</th>\n",
              "      <td>L. Messi</td>\n",
              "      <td>0</td>\n",
              "      <td>4</td>\n",
              "      <td>31</td>\n",
              "      <td>2021</td>\n",
              "      <td>1</td>\n",
              "      <td>1</td>\n",
              "      <td>5</td>\n",
              "      <td>94</td>\n",
              "      <td>94</td>\n",
              "      <td>4</td>\n",
              "      <td>110500000</td>\n",
              "    </tr>\n",
              "    <tr>\n",
              "      <th>1</th>\n",
              "      <td>De Gea</td>\n",
              "      <td>3</td>\n",
              "      <td>2</td>\n",
              "      <td>27</td>\n",
              "      <td>2020</td>\n",
              "      <td>0</td>\n",
              "      <td>0</td>\n",
              "      <td>4</td>\n",
              "      <td>91</td>\n",
              "      <td>93</td>\n",
              "      <td>1</td>\n",
              "      <td>72000000</td>\n",
              "    </tr>\n",
              "    <tr>\n",
              "      <th>2</th>\n",
              "      <td>L. Suárez</td>\n",
              "      <td>7</td>\n",
              "      <td>4</td>\n",
              "      <td>31</td>\n",
              "      <td>2021</td>\n",
              "      <td>1</td>\n",
              "      <td>0</td>\n",
              "      <td>5</td>\n",
              "      <td>91</td>\n",
              "      <td>91</td>\n",
              "      <td>3</td>\n",
              "      <td>80000000</td>\n",
              "    </tr>\n",
              "    <tr>\n",
              "      <th>3</th>\n",
              "      <td>Sergio Ramos</td>\n",
              "      <td>8</td>\n",
              "      <td>2</td>\n",
              "      <td>32</td>\n",
              "      <td>2020</td>\n",
              "      <td>0</td>\n",
              "      <td>0</td>\n",
              "      <td>4</td>\n",
              "      <td>91</td>\n",
              "      <td>91</td>\n",
              "      <td>3</td>\n",
              "      <td>51000000</td>\n",
              "    </tr>\n",
              "    <tr>\n",
              "      <th>4</th>\n",
              "      <td>J. Oblak</td>\n",
              "      <td>9</td>\n",
              "      <td>2</td>\n",
              "      <td>25</td>\n",
              "      <td>2021</td>\n",
              "      <td>0</td>\n",
              "      <td>0</td>\n",
              "      <td>3</td>\n",
              "      <td>90</td>\n",
              "      <td>93</td>\n",
              "      <td>1</td>\n",
              "      <td>68000000</td>\n",
              "    </tr>\n",
              "  </tbody>\n",
              "</table>\n",
              "</div>"
            ],
            "text/plain": [
              "           name  id  continent  ...  stat_potential  stat_skill_moves      value\n",
              "0      L. Messi   0          4  ...              94                 4  110500000\n",
              "1        De Gea   3          2  ...              93                 1   72000000\n",
              "2     L. Suárez   7          4  ...              91                 3   80000000\n",
              "3  Sergio Ramos   8          2  ...              91                 3   51000000\n",
              "4      J. Oblak   9          2  ...              93                 1   68000000\n",
              "\n",
              "[5 rows x 12 columns]"
            ]
          },
          "metadata": {},
          "execution_count": 8
        }
      ]
    },
    {
      "cell_type": "code",
      "metadata": {
        "colab": {
          "base_uri": "https://localhost:8080/"
        },
        "id": "s0mn8d6GOElk",
        "outputId": "e06a963a-625f-440b-865c-9d01516eb328"
      },
      "source": [
        "invest.info()"
      ],
      "execution_count": 9,
      "outputs": [
        {
          "output_type": "stream",
          "text": [
            "<class 'pandas.core.frame.DataFrame'>\n",
            "RangeIndex: 8932 entries, 0 to 8931\n",
            "Data columns (total 12 columns):\n",
            " #   Column            Non-Null Count  Dtype \n",
            "---  ------            --------------  ----- \n",
            " 0   name              8932 non-null   object\n",
            " 1   id                8932 non-null   int64 \n",
            " 2   continent         8932 non-null   int64 \n",
            " 3   age               8932 non-null   int64 \n",
            " 4   contract_until    8932 non-null   int64 \n",
            " 5   position          8932 non-null   int64 \n",
            " 6   prefer_foot       8932 non-null   int64 \n",
            " 7   reputation        8932 non-null   int64 \n",
            " 8   stat_overall      8932 non-null   int64 \n",
            " 9   stat_potential    8932 non-null   int64 \n",
            " 10  stat_skill_moves  8932 non-null   int64 \n",
            " 11  value             8932 non-null   int64 \n",
            "dtypes: int64(11), object(1)\n",
            "memory usage: 837.5+ KB\n"
          ],
          "name": "stdout"
        }
      ]
    },
    {
      "cell_type": "code",
      "metadata": {
        "colab": {
          "base_uri": "https://localhost:8080/"
        },
        "id": "hzeUmFIlOViX",
        "outputId": "2a62c75a-813b-47b9-9e07-f4927e86aa42"
      },
      "source": [
        "data=invest.to_numpy()\n",
        "print(data.shape)\n",
        "print(data[:5])"
      ],
      "execution_count": 10,
      "outputs": [
        {
          "output_type": "stream",
          "text": [
            "(8932, 12)\n",
            "[['L. Messi' 0 4 31 2021 1 1 5 94 94 4 110500000]\n",
            " ['De Gea' 3 2 27 2020 0 0 4 91 93 1 72000000]\n",
            " ['L. Suárez' 7 4 31 2021 1 0 5 91 91 3 80000000]\n",
            " ['Sergio Ramos' 8 2 32 2020 0 0 4 91 91 3 51000000]\n",
            " ['J. Oblak' 9 2 25 2021 0 0 3 90 93 1 68000000]]\n"
          ],
          "name": "stdout"
        }
      ]
    },
    {
      "cell_type": "code",
      "metadata": {
        "colab": {
          "base_uri": "https://localhost:8080/"
        },
        "id": "i1Wca1mdOn2_",
        "outputId": "3681ed0d-7e08-4dc3-bd93-46e51fa5c3f0"
      },
      "source": [
        "np.random.shuffle(data)\n",
        "\n",
        "x = data[:,1:11]\n",
        "y = data[:,11:]\n",
        "\n",
        "split_index = 7443\n",
        "\n",
        "train_x, test_x = x[:split_index], x[split_index:]\n",
        "train_y, test_y = y[:split_index], y[split_index:]\n",
        "\n",
        "print(train_x.shape)\n",
        "print(train_y.shape)\n",
        "print(test_x.shape)\n",
        "print(test_y.shape)\n",
        "print(train_x[:5])\n",
        "print(train_y[:5])\n",
        "print(test_x[:5])\n",
        "print(test_y[:5])"
      ],
      "execution_count": 11,
      "outputs": [
        {
          "output_type": "stream",
          "text": [
            "(7443, 10)\n",
            "(7443, 1)\n",
            "(1489, 10)\n",
            "(1489, 1)\n",
            "[[7434 2 30 2019 2 0 1 67 67 3]\n",
            " [4068 4 24 2022 3 1 1 71 75 3]\n",
            " [14516 2 18 2020 2 1 1 59 79 3]\n",
            " [2039 1 36 2019 0 0 2 74 74 1]\n",
            " [9546 0 21 2021 1 1 1 65 74 3]]\n",
            "[[725000]\n",
            " [2600000]\n",
            " [325000]\n",
            " [750000]\n",
            " [850000]]\n",
            "[[15613 4 24 2021 0 0 1 56 62 1]\n",
            " [274 4 27 2022 3 0 3 82 83 2]\n",
            " [4011 2 24 2022 0 0 1 71 79 1]\n",
            " [2257 4 30 2021 2 0 1 74 74 4]\n",
            " [14739 2 24 2019 2 0 1 59 63 2]]\n",
            "[[90000]\n",
            " [21000000]\n",
            " [2600000]\n",
            " [5500000]\n",
            " [200000]]\n"
          ],
          "name": "stdout"
        }
      ]
    },
    {
      "cell_type": "code",
      "metadata": {
        "colab": {
          "base_uri": "https://localhost:8080/"
        },
        "id": "TDDCy9G-V8_V",
        "outputId": "25139467-bf86-49eb-fbfc-755fbadc748a"
      },
      "source": [
        "#normalization\n",
        "min = np.min(y)\n",
        "max = np.max(y)\n",
        "y = (y-min) / (max-min)\n",
        "print(np.min(y), np.max(y))"
      ],
      "execution_count": 12,
      "outputs": [
        {
          "output_type": "stream",
          "text": [
            "0.0 1.0\n"
          ],
          "name": "stdout"
        }
      ]
    },
    {
      "cell_type": "code",
      "metadata": {
        "id": "eh43PyKsZmKA"
      },
      "source": [
        "import tensorflow as tf\n",
        "\n",
        "from tensorflow import keras\n",
        "from tensorflow.keras import optimizers\n",
        "from tensorflow.keras.layers import *"
      ],
      "execution_count": 13,
      "outputs": []
    },
    {
      "cell_type": "code",
      "metadata": {
        "colab": {
          "base_uri": "https://localhost:8080/"
        },
        "id": "S5gyMNjSW4ey",
        "outputId": "78e9351a-f546-4188-d893-cf0c3e2d0637"
      },
      "source": [
        "print(train_x.shape)\n",
        "print(train_x.shape[1])\n",
        "print(train_y.shape)\n",
        "print(train_y.shape[1])"
      ],
      "execution_count": 14,
      "outputs": [
        {
          "output_type": "stream",
          "text": [
            "(7443, 10)\n",
            "10\n",
            "(7443, 1)\n",
            "1\n"
          ],
          "name": "stdout"
        }
      ]
    },
    {
      "cell_type": "code",
      "metadata": {
        "id": "ODSO8QNpQWmZ"
      },
      "source": [
        "model = keras.Sequential([\n",
        "    Dense(2000, activation='relu', input_shape=(train_x.shape[1],)),\n",
        "    Dense(2000, activation='relu'),\n",
        "    Dense(train_y.shape[1])\n",
        "])\n",
        "    "
      ],
      "execution_count": 15,
      "outputs": []
    },
    {
      "cell_type": "code",
      "metadata": {
        "colab": {
          "base_uri": "https://localhost:8080/"
        },
        "id": "UaHildTCXBoY",
        "outputId": "96230737-c11b-411a-dded-9fe5d84f5c70"
      },
      "source": [
        "model.summary()"
      ],
      "execution_count": 16,
      "outputs": [
        {
          "output_type": "stream",
          "text": [
            "Model: \"sequential\"\n",
            "_________________________________________________________________\n",
            "Layer (type)                 Output Shape              Param #   \n",
            "=================================================================\n",
            "dense (Dense)                (None, 2000)              22000     \n",
            "_________________________________________________________________\n",
            "dense_1 (Dense)              (None, 2000)              4002000   \n",
            "_________________________________________________________________\n",
            "dense_2 (Dense)              (None, 1)                 2001      \n",
            "=================================================================\n",
            "Total params: 4,026,001\n",
            "Trainable params: 4,026,001\n",
            "Non-trainable params: 0\n",
            "_________________________________________________________________\n"
          ],
          "name": "stdout"
        }
      ]
    },
    {
      "cell_type": "code",
      "metadata": {
        "id": "7GSP6LyxXD9k"
      },
      "source": [
        "model.compile(optimizer='adam',\n",
        "              loss='mse',\n",
        "              metrics=['mae'])"
      ],
      "execution_count": 17,
      "outputs": []
    },
    {
      "cell_type": "code",
      "metadata": {
        "colab": {
          "base_uri": "https://localhost:8080/"
        },
        "id": "WpkLunHQbFig",
        "outputId": "42495954-3f47-45f3-d3e3-cf0cb68e1645"
      },
      "source": [
        "type(train_x)"
      ],
      "execution_count": 18,
      "outputs": [
        {
          "output_type": "execute_result",
          "data": {
            "text/plain": [
              "numpy.ndarray"
            ]
          },
          "metadata": {},
          "execution_count": 18
        }
      ]
    },
    {
      "cell_type": "code",
      "metadata": {
        "id": "F1IV96-ua6Qv"
      },
      "source": [
        "train_y = train_y[:,:].astype(float)\n",
        "train_x = train_x[:,:].astype(float)"
      ],
      "execution_count": 19,
      "outputs": []
    },
    {
      "cell_type": "code",
      "metadata": {
        "id": "AmD3BTzWvcGr"
      },
      "source": [
        "# copy from https://gist.github.com/stared/dfb4dfaf6d9a8501cd1cc8b8cb806d2e\n",
        "\n",
        "from IPython.display import clear_output\n",
        "from tensorflow.keras.callbacks import Callback\n",
        "\n",
        "class PlotLosses(Callback):\n",
        "\n",
        "  def on_train_begin(self, logs={}):\n",
        "\n",
        "    self.i = 0\n",
        "    self.x = []\n",
        "    self.losses = []\n",
        "    self.val_losses = []\n",
        "\n",
        "    self.fig = plt.figure()\n",
        "\n",
        "    self.logs = []\n",
        "\n",
        "\n",
        "  def on_epoch_end(self, epoch, logs={}):\n",
        "\n",
        "    self.logs.append(logs)\n",
        "    self.x.append(self.i)\n",
        "    self.losses.append(logs.get('loss'))\n",
        "    self.val_losses.append(logs.get('val_loss'))\n",
        "    self.i += 1\n",
        "\n",
        "    clear_output(wait=True)\n",
        "    plt.plot(self.x, self.losses, label=\"loss\")\n",
        "    plt.plot(self.x, self.val_losses, label=\"val_loss\")\n",
        "    plt.legend()\n",
        "    plt.show();\n",
        "    print(\"loss = \", self.losses[-1], \", val_loss = \", self.val_losses[-1])"
      ],
      "execution_count": 20,
      "outputs": []
    },
    {
      "cell_type": "code",
      "metadata": {
        "colab": {
          "base_uri": "https://localhost:8080/",
          "height": 294
        },
        "id": "jyUI9FGoXKiy",
        "outputId": "ac3f21b0-0dda-4af3-c7f5-05e762abe4c2"
      },
      "source": [
        "plot_losses = PlotLosses()\n",
        "history = model.fit(train_x, train_y, epochs=700, verbose=1, batch_size=2048, validation_split=0.1,callbacks=[plot_losses])"
      ],
      "execution_count": 21,
      "outputs": [
        {
          "output_type": "display_data",
          "data": {
            "image/png": "[encoded data removed]",
            "text/plain": [
              "<Figure size 432x288 with 1 Axes>"
            ]
          },
          "metadata": {
            "needs_background": "light"
          }
        },
        {
          "output_type": "stream",
          "text": [
            "loss =  2080068075520.0 , val_loss =  1939939131392.0\n"
          ],
          "name": "stdout"
        }
      ]
    },
    {
      "cell_type": "code",
      "metadata": {
        "id": "o9ziQzsTo-hQ"
      },
      "source": [
        "test_y = test_y[:,:].astype(float)\n",
        "test_x = test_x[:,:].astype(float)"
      ],
      "execution_count": 22,
      "outputs": []
    },
    {
      "cell_type": "code",
      "metadata": {
        "colab": {
          "base_uri": "https://localhost:8080/"
        },
        "id": "XaxVHkw6oqZY",
        "outputId": "963d286e-3267-40a1-eb88-73b07b69dc7f"
      },
      "source": [
        "loss, mae = model.evaluate(test_x, test_y, batch_size=2048)\n",
        "\n",
        "print(\"loss :\", loss)\n",
        "print(\"mae :\", mae)"
      ],
      "execution_count": 23,
      "outputs": [
        {
          "output_type": "stream",
          "text": [
            "1/1 [==============================] - 0s 19ms/step - loss: 1166238416896.0000 - mae: 414339.3125\n",
            "loss : 1166238416896.0\n",
            "mae : 414339.3125\n"
          ],
          "name": "stdout"
        }
      ]
    },
    {
      "cell_type": "code",
      "metadata": {
        "colab": {
          "base_uri": "https://localhost:8080/"
        },
        "id": "Dp4Jrk3bozuv",
        "outputId": "4e7ad91b-bc6c-45cf-91c5-e4230f210b46"
      },
      "source": [
        "y_ = model.predict(test_x)\n",
        "print(y_[:10])"
      ],
      "execution_count": 24,
      "outputs": [
        {
          "output_type": "stream",
          "text": [
            "[[  -74573.8  ]\n",
            " [19319842.   ]\n",
            " [ 2950921.5  ]\n",
            " [ 4674846.   ]\n",
            " [   70045.83 ]\n",
            " [   57891.016]\n",
            " [  677370.8  ]\n",
            " [  120179.016]\n",
            " [ 4926217.5  ]\n",
            " [  282720.7  ]]\n"
          ],
          "name": "stdout"
        }
      ]
    },
    {
      "cell_type": "markdown",
      "metadata": {
        "id": "nXvcqN4h2w_8"
      },
      "source": [
        "\n",
        "# FIFA_test 파일 예측\n",
        "- 데이터 전처리O\n",
        "\n",
        "\n",
        "np.random.shuffle(data)\n",
        "\n"
      ]
    },
    {
      "cell_type": "code",
      "metadata": {
        "colab": {
          "base_uri": "https://localhost:8080/",
          "height": 204
        },
        "id": "FQibps_p2vSJ",
        "outputId": "12ff3407-6a12-49ce-adad-04cf334197ca"
      },
      "source": [
        "pay=pd.read_csv('FIFA_test.csv')\n",
        "pay.head()"
      ],
      "execution_count": 25,
      "outputs": [
        {
          "output_type": "execute_result",
          "data": {
            "text/html": [
              "<div>\n",
              "<style scoped>\n",
              "    .dataframe tbody tr th:only-of-type {\n",
              "        vertical-align: middle;\n",
              "    }\n",
              "\n",
              "    .dataframe tbody tr th {\n",
              "        vertical-align: top;\n",
              "    }\n",
              "\n",
              "    .dataframe thead th {\n",
              "        text-align: right;\n",
              "    }\n",
              "</style>\n",
              "<table border=\"1\" class=\"dataframe\">\n",
              "  <thead>\n",
              "    <tr style=\"text-align: right;\">\n",
              "      <th></th>\n",
              "      <th>name</th>\n",
              "      <th>id</th>\n",
              "      <th>continent</th>\n",
              "      <th>age</th>\n",
              "      <th>contract_until</th>\n",
              "      <th>position</th>\n",
              "      <th>prefer_foot</th>\n",
              "      <th>reputation</th>\n",
              "      <th>stat_overall</th>\n",
              "      <th>stat_potential</th>\n",
              "      <th>stat_skill_moves</th>\n",
              "    </tr>\n",
              "  </thead>\n",
              "  <tbody>\n",
              "    <tr>\n",
              "      <th>0</th>\n",
              "      <td>Cristiano Ronaldo</td>\n",
              "      <td>1</td>\n",
              "      <td>2</td>\n",
              "      <td>33</td>\n",
              "      <td>2022</td>\n",
              "      <td>1</td>\n",
              "      <td>0</td>\n",
              "      <td>5</td>\n",
              "      <td>94</td>\n",
              "      <td>94</td>\n",
              "      <td>5</td>\n",
              "    </tr>\n",
              "    <tr>\n",
              "      <th>1</th>\n",
              "      <td>Neymar Jr</td>\n",
              "      <td>2</td>\n",
              "      <td>4</td>\n",
              "      <td>26</td>\n",
              "      <td>2022</td>\n",
              "      <td>1</td>\n",
              "      <td>0</td>\n",
              "      <td>5</td>\n",
              "      <td>92</td>\n",
              "      <td>93</td>\n",
              "      <td>5</td>\n",
              "    </tr>\n",
              "    <tr>\n",
              "      <th>2</th>\n",
              "      <td>K. De Bruyne</td>\n",
              "      <td>4</td>\n",
              "      <td>2</td>\n",
              "      <td>27</td>\n",
              "      <td>2023</td>\n",
              "      <td>2</td>\n",
              "      <td>0</td>\n",
              "      <td>4</td>\n",
              "      <td>91</td>\n",
              "      <td>92</td>\n",
              "      <td>4</td>\n",
              "    </tr>\n",
              "    <tr>\n",
              "      <th>3</th>\n",
              "      <td>E. Hazard</td>\n",
              "      <td>5</td>\n",
              "      <td>2</td>\n",
              "      <td>27</td>\n",
              "      <td>2020</td>\n",
              "      <td>1</td>\n",
              "      <td>0</td>\n",
              "      <td>4</td>\n",
              "      <td>91</td>\n",
              "      <td>91</td>\n",
              "      <td>4</td>\n",
              "    </tr>\n",
              "    <tr>\n",
              "      <th>4</th>\n",
              "      <td>L. Modrić</td>\n",
              "      <td>6</td>\n",
              "      <td>2</td>\n",
              "      <td>32</td>\n",
              "      <td>2020</td>\n",
              "      <td>2</td>\n",
              "      <td>0</td>\n",
              "      <td>4</td>\n",
              "      <td>91</td>\n",
              "      <td>91</td>\n",
              "      <td>4</td>\n",
              "    </tr>\n",
              "  </tbody>\n",
              "</table>\n",
              "</div>"
            ],
            "text/plain": [
              "                name  id  ...  stat_potential  stat_skill_moves\n",
              "0  Cristiano Ronaldo   1  ...              94                 5\n",
              "1          Neymar Jr   2  ...              93                 5\n",
              "2       K. De Bruyne   4  ...              92                 4\n",
              "3          E. Hazard   5  ...              91                 4\n",
              "4          L. Modrić   6  ...              91                 4\n",
              "\n",
              "[5 rows x 11 columns]"
            ]
          },
          "metadata": {},
          "execution_count": 25
        }
      ]
    },
    {
      "cell_type": "code",
      "metadata": {
        "id": "xv7ju2vepKgs",
        "colab": {
          "base_uri": "https://localhost:8080/"
        },
        "outputId": "a7496efc-2c7d-4373-ec5d-0659fd967e9d"
      },
      "source": [
        "data2=pay.to_numpy()\n",
        "print(data2.shape)\n",
        "print(data2[:5])\n",
        "\n",
        "\n",
        "t = data2[:,1:]\n",
        "\n",
        "\n",
        "print(t.shape)\n",
        "print(t[:5])\n",
        "print(t[:,0])"
      ],
      "execution_count": 26,
      "outputs": [
        {
          "output_type": "stream",
          "text": [
            "(3828, 11)\n",
            "[['Cristiano Ronaldo' 1 2 33 2022 1 0 5 94 94 5]\n",
            " ['Neymar Jr' 2 4 26 2022 1 0 5 92 93 5]\n",
            " ['K. De Bruyne' 4 2 27 2023 2 0 4 91 92 4]\n",
            " ['E. Hazard' 5 2 27 2020 1 0 4 91 91 4]\n",
            " ['L. Modrić' 6 2 32 2020 2 0 4 91 91 4]]\n",
            "(3828, 10)\n",
            "[[1 2 33 2022 1 0 5 94 94 5]\n",
            " [2 4 26 2022 1 0 5 92 93 5]\n",
            " [4 2 27 2023 2 0 4 91 92 4]\n",
            " [5 2 27 2020 1 0 4 91 91 4]\n",
            " [6 2 32 2020 2 0 4 91 91 4]]\n",
            "[1 2 4 ... 16932 16937 16943]\n"
          ],
          "name": "stdout"
        }
      ]
    },
    {
      "cell_type": "code",
      "metadata": {
        "id": "DpE0xKjo4KRY"
      },
      "source": [
        "t = t[:,:].astype(float)"
      ],
      "execution_count": 27,
      "outputs": []
    },
    {
      "cell_type": "code",
      "metadata": {
        "colab": {
          "base_uri": "https://localhost:8080/"
        },
        "id": "yNyBvcR23iLR",
        "outputId": "7739952d-8b0b-430f-8f85-c5cf2136f514"
      },
      "source": [
        "y_1 = model.predict(t)\n",
        "print(y_1[:,0])"
      ],
      "execution_count": 28,
      "outputs": [
        {
          "output_type": "stream",
          "text": [
            "[63881450.   66417884.   64384636.   ...   116067.7    108084.2\n",
            "    76767.58]\n"
          ],
          "name": "stdout"
        }
      ]
    },
    {
      "cell_type": "code",
      "metadata": {
        "colab": {
          "base_uri": "https://localhost:8080/"
        },
        "id": "OXGN2x12y81h",
        "outputId": "a929992f-9a3f-4c33-b003-32501d083bd6"
      },
      "source": [
        "(t[:,0])"
      ],
      "execution_count": 29,
      "outputs": [
        {
          "output_type": "execute_result",
          "data": {
            "text/plain": [
              "array([1.0000e+00, 2.0000e+00, 4.0000e+00, ..., 1.6932e+04, 1.6937e+04,\n",
              "       1.6943e+04])"
            ]
          },
          "metadata": {},
          "execution_count": 29
        }
      ]
    },
    {
      "cell_type": "code",
      "metadata": {
        "colab": {
          "base_uri": "https://localhost:8080/"
        },
        "id": "fMV5YYF45DFR",
        "outputId": "97f8d0cc-144a-4568-b8ae-784d0f1f7ee2"
      },
      "source": [
        "print(np.vstack((t[:,0],y_1[:,0])))"
      ],
      "execution_count": 30,
      "outputs": [
        {
          "output_type": "stream",
          "text": [
            "[[1.00000000e+00 2.00000000e+00 4.00000000e+00 ... 1.69320000e+04\n",
            "  1.69370000e+04 1.69430000e+04]\n",
            " [6.38814480e+07 6.64178840e+07 6.43846360e+07 ... 1.16067703e+05\n",
            "  1.08084203e+05 7.67675781e+04]]\n"
          ],
          "name": "stdout"
        }
      ]
    },
    {
      "cell_type": "code",
      "metadata": {
        "id": "OQEDvGv31QeO"
      },
      "source": [
        "raw_data=np.vstack((t[:,0],y_1[:,0])).T\n",
        "data3=pd.DataFrame(raw_data[:],columns =['id','value'])"
      ],
      "execution_count": 31,
      "outputs": []
    },
    {
      "cell_type": "code",
      "metadata": {
        "id": "Ibr6OqLQ4jar"
      },
      "source": [
        "data3.to_csv('submission.csv') \n"
      ],
      "execution_count": 32,
      "outputs": []
    }
  ]
}